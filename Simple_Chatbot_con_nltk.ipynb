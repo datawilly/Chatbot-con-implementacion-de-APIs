{
  "nbformat": 4,
  "nbformat_minor": 0,
  "metadata": {
    "colab": {
      "provenance": [],
      "authorship_tag": "ABX9TyMs5SPcuziC2TXV7iMrBeEl",
      "include_colab_link": true
    },
    "kernelspec": {
      "name": "python3",
      "display_name": "Python 3"
    },
    "language_info": {
      "name": "python"
    }
  },
  "cells": [
    {
      "cell_type": "markdown",
      "metadata": {
        "id": "view-in-github",
        "colab_type": "text"
      },
      "source": [
        "<a href=\"https://colab.research.google.com/github/datawilly/Simple_chatbot/blob/main/Simple_Chatbot_con_nltk.ipynb\" target=\"_parent\"><img src=\"https://colab.research.google.com/assets/colab-badge.svg\" alt=\"Open In Colab\"/></a>"
      ]
    },
    {
      "cell_type": "code",
      "metadata": {
        "id": "BeJenJzxsFO_"
      },
      "source": [
        "from nltk.chat.util import Chat, reflections"
      ],
      "execution_count": 1,
      "outputs": []
    },
    {
      "cell_type": "code",
      "metadata": {
        "id": "jVik0gWYuY4O"
      },
      "source": [
        "pairs = [\n",
        "         [\n",
        "          r\"(.*) mi nombre es (.*)\",\n",
        "          [\"Hola %2, Como estas hoy?\",]\n",
        "         ],\n",
        "         [\n",
        "          r\"(.*) ayudar (.*) \",\n",
        "          [\"Claro que si, dime que necesitas\" , \"Yo puedo ayudarte, cuentame\",]\n",
        "         ],\n",
        "         [\n",
        "           r\"(.*) tu nombre?\",\n",
        "           [\"Eso es complicado pero tu puedes solo llamarme robot.\",]\n",
        "         ],\n",
        "         [\n",
        "           r\"Como estas (.*) ?\",\n",
        "           [\"Estoy genial!\" , \"Mucho mejor ahora que lo preguntas\",]\n",
        "          ],\n",
        "          [\n",
        "           r\"Lo siento (.*)\",\n",
        "           [\"No te preocupes todo esta bien\", \"Somos humanos, bueno yo no pero te disculpo\"]\n",
        "          ],\n",
        "          [\n",
        "           r\"Estoy (.*) (bien|genial|contento|feliz)\",\n",
        "           [\"Me alegra escucharlo !\",]\n",
        "          ],\n",
        "          [\n",
        "           r\"(hey|hello|hola|holla)(.*)\",\n",
        "           [\"Hola\", \"Como estas\",]\n",
        "          ],\n",
        "          [\n",
        "           r\"(.*) que puedes hacer (.*) ?\",\n",
        "           [\"Estoy programado para resolver tus dudas\",]\n",
        "\n",
        "          ],\n",
        "          [\n",
        "            r\"(.*) creo (.*)?\",\n",
        "            [\"William Rosales me hizo usando la libreria NLTK \",\"top secret ;)\",]\n",
        "          ],\n",
        "          [\n",
        "            r\"(.*) (ubicacion|ciudad|lugar|pais) ?\",\n",
        "            ['Quito, Ecuador',]\n",
        "          ],\n",
        "          [\n",
        "            r\"(.*) llueva (.*)\",\n",
        "            [\"Ultimamente esta lloviendo muy amenudno en en %2\",\"En %2 hay un gran porcentaje de lluvia\",]\n",
        "          ],\n",
        "          [\n",
        "            r\"quit\",\n",
        "            [\"Bye for now. See you soon :) \",\"It was nice talking to you. See you soon :)\",]\n",
        "          ]\n",
        "]"
      ],
      "execution_count": 2,
      "outputs": []
    },
    {
      "cell_type": "code",
      "metadata": {
        "colab": {
          "base_uri": "https://localhost:8080/"
        },
        "id": "yixPqYLIuY-m",
        "outputId": "c6907bb0-ebc6-49b7-cb01-8f86bbca86df"
      },
      "source": [
        "print('Hola soy un chatbot')"
      ],
      "execution_count": 3,
      "outputs": [
        {
          "output_type": "stream",
          "name": "stdout",
          "text": [
            "Hola soy un chatbot\n"
          ]
        }
      ]
    },
    {
      "cell_type": "code",
      "metadata": {
        "id": "xJPSWq2buZC0"
      },
      "source": [
        "chat = Chat(pairs,reflections)"
      ],
      "execution_count": 4,
      "outputs": []
    },
    {
      "cell_type": "code",
      "metadata": {
        "colab": {
          "base_uri": "https://localhost:8080/"
        },
        "id": "WLFYFmOF_YlL",
        "outputId": "485f4a81-8393-4037-a2c8-66ac4d5213b2"
      },
      "source": [
        "chat.converse()"
      ],
      "execution_count": 5,
      "outputs": [
        {
          "output_type": "stream",
          "name": "stdout",
          "text": [
            ">hola\n",
            "Como estas\n",
            ">como te llamas\n",
            "None\n",
            ">cual es tu nombre\n",
            "Eso es complicado pero tu puedes solo llamarme robot.\n",
            ">quit\n",
            "It was nice talking to you. See you soon :)\n"
          ]
        }
      ]
    }
  ]
}